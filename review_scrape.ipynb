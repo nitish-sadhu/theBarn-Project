{
 "cells": [
  {
   "cell_type": "code",
   "execution_count": 192,
   "metadata": {},
   "outputs": [],
   "source": [
    "from bs4 import BeautifulSoup\n",
    "from selenium import webdriver\n",
    "from selenium.webdriver.common.by import By\n",
    "from selenium.webdriver.support.wait import WebDriverWait\n",
    "from selenium.webdriver.support import expected_conditions as EC\n",
    "import time\n",
    "import pickle\n",
    "from selenium.webdriver.common.action_chains import ActionChains\n",
    "from selenium.common.exceptions import NoSuchElementException\n",
    "import pprint\n",
    "import pymongo\n",
    "from pymongo import MongoClient"
   ]
  },
  {
   "cell_type": "code",
   "execution_count": 193,
   "metadata": {},
   "outputs": [],
   "source": [
    "SCROLL_PAUSE_TIME = 0.5"
   ]
  },
  {
   "cell_type": "code",
   "execution_count": 194,
   "metadata": {},
   "outputs": [],
   "source": [
    "#setting the webdriver\n",
    "driver = webdriver.Chrome()\n",
    "\n",
    "# URL\n",
    "url = \"https://www.google.com/maps/place/The+Barn/@51.4997752,-0.0354937,17z/data=!3m1!4b1!4m6!3m5!1s0x487603767bd1cbd9:0xfa9417ad4c14890b!8m2!3d51.4997719!4d-0.0329188!16s%2Fg%2F11k6r9qd22?entry=ttu\"\n",
    "\n",
    "driver.get(url)\n",
    "\n",
    "wait = WebDriverWait(driver, 50)\n",
    "\n",
    "accept_button = wait.until(EC.element_to_be_clickable((By.XPATH, '//*[@id=\"yDmH0d\"]/c-wiz/div/div/div/div[2]/div[1]/div[3]/div[1]/div[1]/form[2]/div/div/button/span')))\n",
    "\n",
    "accept_button.click()\n",
    "\n",
    "\n",
    "\n",
    "element = driver.find_element(By.XPATH, '//*[@id=\"QA0Szd\"]/div/div/div[1]/div[2]/div/div[1]/div/div/div[53]/div/button')\n",
    "\n",
    "driver.execute_script(\"arguments[0].scrollIntoView({'block':'center','inline':'center'});\", element)\n",
    "\n",
    "\n",
    "more_button = wait.until(EC.element_to_be_clickable((By.XPATH, '//*[@id=\"QA0Szd\"]/div/div/div[1]/div[2]/div/div[1]/div/div/div[53]/div/button')))\n",
    "\n",
    "more_button.click()\n"
   ]
  },
  {
   "cell_type": "code",
   "execution_count": 196,
   "metadata": {},
   "outputs": [],
   "source": [
    "scroll_div = driver.find_element(By.XPATH, '//*[@id=\"QA0Szd\"]/div/div/div[1]/div[2]/div/div[1]/div/div/div[2]')\n",
    "\n",
    "driver.execute_script(\"arguments[0].scrollTop = arguments[0].scrollHeight;\", scroll_div)\n",
    "\n",
    "#actions = ActionChains(driver)\n",
    "\n",
    "#actions.scroll_to_element(scroll_div).perform()\n",
    "\n",
    "#for i in range(10):\n",
    "#        driver.execute_script(\"arguments[0].scrollTop = arguments[0].scrollHeight\", scroll_div)\n",
    "#        time.sleep(SCROLL_PAUSE_TIME)"
   ]
  },
  {
   "cell_type": "code",
   "execution_count": 197,
   "metadata": {},
   "outputs": [],
   "source": [
    "def elementExist(xpth):\n",
    "        #print(xpth)\n",
    "        #print(type(xpth))\n",
    "        try:\n",
    "                driver.find_element(By.XPATH, xpth)\n",
    "                #print('tried')\n",
    "        except NoSuchElementException:\n",
    "                #print('Exception')\n",
    "                return False\n",
    "        return True"
   ]
  },
  {
   "cell_type": "code",
   "execution_count": 198,
   "metadata": {},
   "outputs": [],
   "source": [
    "time.sleep(5)\n",
    "flag = True\n",
    "i = 1\n",
    "\n",
    "while(flag):\n",
    "        div_xpth = '/html/body/div[3]/div[8]/div[9]/div/div/div[1]/div[2]/div/div[1]/div/div/div[2]/div[10]/div['+ str(i) +']'\n",
    "        more_1_xpth = '/html/body/div[3]/div[8]/div[9]/div/div/div[1]/div[2]/div/div[1]/div/div/div[2]/div[10]/div[' + str(i) + ']/div/div/div[4]/div[2]/div/span[2]/button'\n",
    "        if elementExist(div_xpth):\n",
    "                if elementExist(more_1_xpth):\n",
    "                        button_element = driver.find_element(By.XPATH, more_1_xpth)\n",
    "                        driver.execute_script(\"arguments[0].scrollIntoView({'block':'center','inline':'center'});\", button_element)\n",
    "                        button_element.click()\n",
    "                        time.sleep(0.1)\n",
    "                        driver.execute_script(\"arguments[0].scrollTop = arguments[0].scrollHeight;\", scroll_div)\n",
    "                        #button = wait.until(EC.element_to_be_clickable((By.XPATH, '/html/body/div[3]/div[8]/div[9]/div/div/div[1]/div[2]/div/div[1]/div/div/div[2]/div[10]/div[i]/div/div/div[4]/div[2]/div/span[2]/button')))\n",
    "                        #button.click()\n",
    "        else:\n",
    "                break\n",
    "\n",
    "        i += 3"
   ]
  },
  {
   "cell_type": "code",
   "execution_count": 199,
   "metadata": {},
   "outputs": [],
   "source": [
    "time.sleep(5)\n",
    "flag = True\n",
    "i = 1\n",
    "\n",
    "while(flag):\n",
    "        div_xpth = '/html/body/div[3]/div[8]/div[9]/div/div/div[1]/div[2]/div/div[1]/div/div/div[2]/div[10]/div['+ str(i) +']'\n",
    "        more_2_xpth = '/html/body/div[3]/div[8]/div[9]/div/div/div[1]/div[2]/div/div[1]/div/div/div[2]/div[10]/div['+ str(i) +']/div/div/div[4]/span/button'\n",
    "        if elementExist(div_xpth):\n",
    "                if elementExist(more_2_xpth):\n",
    "                        button_element = driver.find_element(By.XPATH, more_2_xpth)\n",
    "                        driver.execute_script(\"arguments[0].scrollIntoView({'block':'center','inline':'center'});\", button_element)\n",
    "                        button_element.click()\n",
    "                        time.sleep(0.1)\n",
    "                        driver.execute_script(\"arguments[0].scrollTop = arguments[0].scrollHeight;\", scroll_div)\n",
    "                        #button = wait.until(EC.element_to_be_clickable((By.XPATH, '/html/body/div[3]/div[8]/div[9]/div/div/div[1]/div[2]/div/div[1]/div/div/div[2]/div[10]/div[i]/div/div/div[4]/div[2]/div/span[2]/button')))\n",
    "                        #button.click()\n",
    "        else:\n",
    "                break\n",
    "\n",
    "        i += 3"
   ]
  },
  {
   "cell_type": "code",
   "execution_count": 200,
   "metadata": {},
   "outputs": [],
   "source": [
    "soup = BeautifulSoup(driver.page_source, \"html.parser\")"
   ]
  },
  {
   "cell_type": "code",
   "execution_count": 201,
   "metadata": {},
   "outputs": [],
   "source": [
    "authors = []\n",
    "\n",
    "authors_list = soup.find_all('div', class_='d4r55')\n",
    "\n",
    "for auth in authors_list:\n",
    "        authors.append(auth.text)\n"
   ]
  },
  {
   "cell_type": "code",
   "execution_count": 202,
   "metadata": {},
   "outputs": [],
   "source": [
    "stars = []\n",
    "\n",
    "stars_list = soup.find_all('div', class_='DU9Pgb')\n",
    "\n",
    "for star in stars_list:\n",
    "        stars.append(star.find('span', class_=\"kvMYJc\")['aria-label'])"
   ]
  },
  {
   "cell_type": "code",
   "execution_count": 203,
   "metadata": {},
   "outputs": [],
   "source": [
    "text_reviews = []\n",
    "\n",
    "text_reviews_list = soup.find_all('span', class_=\"wiI7pd\")\n",
    "\n",
    "for rev in text_reviews_list:\n",
    "        text_reviews.append(rev.text)"
   ]
  },
  {
   "cell_type": "code",
   "execution_count": null,
   "metadata": {},
   "outputs": [],
   "source": []
  },
  {
   "cell_type": "code",
   "execution_count": 204,
   "metadata": {},
   "outputs": [
    {
     "name": "stdout",
     "output_type": "stream",
     "text": [
      "['A very nice place, pet friendly and with a really amazing view. We had a '\n",
      " 'wonderful time here. The coffee is really good and they have a lot of '\n",
      " 'options for breakfast.',\n",
      " 'I am visiting London so perhaps this place is not a hidden jewel but I had '\n",
      " 'to work a little too find the building as Google maps told me I had arrived '\n",
      " 'prematurely and I had to read temporary signage that said the entrance was '\n",
      " 'around but the river gate.  I’m glad I did not give up because I walked in '\n",
      " 'and was greeted with tons of beautiful pastries and menu offerings.  I '\n",
      " 'ordered a cappuccino with an extra shot and it was perfect!  I sat at a '\n",
      " 'little stool and enjoyed one of the best jelly donuts I’ve ever eaten as '\n",
      " 'well as a bite of a delicious almond croissant and happiness washed over me '\n",
      " 'while families came and went from the local farm where one can apparently '\n",
      " 'see baby goats according to my neighboring stool mate.  Highly recommend!!']\n"
     ]
    }
   ],
   "source": [
    "pprint.pprint(text_reviews[:2])"
   ]
  },
  {
   "cell_type": "code",
   "execution_count": 205,
   "metadata": {},
   "outputs": [
    {
     "data": {
      "text/plain": [
       "72"
      ]
     },
     "execution_count": 205,
     "metadata": {},
     "output_type": "execute_result"
    }
   ],
   "source": [
    "len(stars)"
   ]
  },
  {
   "cell_type": "code",
   "execution_count": 206,
   "metadata": {},
   "outputs": [
    {
     "data": {
      "text/plain": [
       "72"
      ]
     },
     "execution_count": 206,
     "metadata": {},
     "output_type": "execute_result"
    }
   ],
   "source": [
    "len(authors)"
   ]
  },
  {
   "cell_type": "code",
   "execution_count": 207,
   "metadata": {},
   "outputs": [],
   "source": [
    "for i in range(len(stars)-len(text_reviews)):\n",
    "        text_reviews.append('')"
   ]
  },
  {
   "cell_type": "code",
   "execution_count": 209,
   "metadata": {},
   "outputs": [
    {
     "data": {
      "text/plain": [
       "72"
      ]
     },
     "execution_count": 209,
     "metadata": {},
     "output_type": "execute_result"
    }
   ],
   "source": [
    "len(text_reviews)"
   ]
  },
  {
   "cell_type": "code",
   "execution_count": 210,
   "metadata": {},
   "outputs": [],
   "source": [
    "reviews = []\n",
    "\n",
    "for i in range(len(stars)):\n",
    "        rev = {\n",
    "                'author': authors[i],\n",
    "                'stars': int(stars[i][0]),\n",
    "                'text_review': text_reviews[i]\n",
    "        }\n",
    "\n",
    "        reviews.append(rev)"
   ]
  },
  {
   "cell_type": "code",
   "execution_count": 211,
   "metadata": {},
   "outputs": [
    {
     "name": "stdout",
     "output_type": "stream",
     "text": [
      "[{'author': 'Miruna Iancu',\n",
      "  'stars': 5,\n",
      "  'text_review': 'A very nice place, pet friendly and with a really amazing '\n",
      "                 'view. We had a wonderful time here. The coffee is really '\n",
      "                 'good and they have a lot of options for breakfast.'},\n",
      " {'author': 'Cori Kurtz',\n",
      "  'stars': 5,\n",
      "  'text_review': 'I am visiting London so perhaps this place is not a hidden '\n",
      "                 'jewel but I had to work a little too find the building as '\n",
      "                 'Google maps told me I had arrived prematurely and I had to '\n",
      "                 'read temporary signage that said the entrance was around but '\n",
      "                 'the river gate.  I’m glad I did not give up because I walked '\n",
      "                 'in and was greeted with tons of beautiful pastries and menu '\n",
      "                 'offerings.  I ordered a cappuccino with an extra shot and it '\n",
      "                 'was perfect!  I sat at a little stool and enjoyed one of the '\n",
      "                 'best jelly donuts I’ve ever eaten as well as a bite of a '\n",
      "                 'delicious almond croissant and happiness washed over me '\n",
      "                 'while families came and went from the local farm where one '\n",
      "                 'can apparently see baby goats according to my neighboring '\n",
      "                 'stool mate.  Highly recommend!!'}]\n"
     ]
    }
   ],
   "source": [
    "pprint.pprint(reviews[:2])"
   ]
  },
  {
   "cell_type": "code",
   "execution_count": 213,
   "metadata": {},
   "outputs": [],
   "source": [
    "client = MongoClient()"
   ]
  },
  {
   "cell_type": "code",
   "execution_count": 214,
   "metadata": {},
   "outputs": [],
   "source": [
    "barn_db = client['barn-database']"
   ]
  },
  {
   "cell_type": "code",
   "execution_count": 215,
   "metadata": {},
   "outputs": [],
   "source": [
    "reviews_col = barn_db['reviews']"
   ]
  },
  {
   "cell_type": "code",
   "execution_count": 217,
   "metadata": {},
   "outputs": [],
   "source": [
    "ids = reviews_col.insert_many(reviews)"
   ]
  },
  {
   "cell_type": "code",
   "execution_count": 220,
   "metadata": {},
   "outputs": [
    {
     "data": {
      "text/plain": [
       "{'_id': ObjectId('64f60b6ddc414c05721ed08d'),\n",
       " 'author': 'Miruna Iancu',\n",
       " 'stars': 5,\n",
       " 'text_review': 'A very nice place, pet friendly and with a really amazing view. We had a wonderful time here. The coffee is really good and they have a lot of options for breakfast.'}"
      ]
     },
     "execution_count": 220,
     "metadata": {},
     "output_type": "execute_result"
    }
   ],
   "source": [
    "reviews_col.find_one({'author' : 'Miruna Iancu'})"
   ]
  },
  {
   "cell_type": "code",
   "execution_count": null,
   "metadata": {},
   "outputs": [],
   "source": []
  }
 ],
 "metadata": {
  "kernelspec": {
   "display_name": "Python 3",
   "language": "python",
   "name": "python3"
  },
  "language_info": {
   "codemirror_mode": {
    "name": "ipython",
    "version": 3
   },
   "file_extension": ".py",
   "mimetype": "text/x-python",
   "name": "python",
   "nbconvert_exporter": "python",
   "pygments_lexer": "ipython3",
   "version": "3.9.0"
  },
  "orig_nbformat": 4
 },
 "nbformat": 4,
 "nbformat_minor": 2
}
