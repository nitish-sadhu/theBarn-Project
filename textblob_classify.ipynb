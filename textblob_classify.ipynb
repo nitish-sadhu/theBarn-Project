{
 "cells": [
  {
   "cell_type": "code",
   "execution_count": 1,
   "metadata": {},
   "outputs": [],
   "source": [
    "from textblob import TextBlob\n",
    "import pymongo\n",
    "from pymongo import MongoClient\n",
    "import pprint"
   ]
  },
  {
   "cell_type": "code",
   "execution_count": 2,
   "metadata": {},
   "outputs": [],
   "source": [
    "barn_client = MongoClient() \n",
    "barn_db = barn_client['barn-database']\n",
    "reviews_col = barn_db['reviews']"
   ]
  },
  {
   "cell_type": "code",
   "execution_count": 3,
   "metadata": {},
   "outputs": [
    {
     "name": "stdout",
     "output_type": "stream",
     "text": [
      "{'_id': ObjectId('64f60b6ddc414c05721ed08d'),\n",
      " 'author': 'Miruna Iancu',\n",
      " 'stars': 5,\n",
      " 'text_review': 'A very nice place, pet friendly and with a really amazing '\n",
      "                'view. We had a wonderful time here. The coffee is really good '\n",
      "                'and they have a lot of options for breakfast.',\n",
      " 'tokens': ['nice',\n",
      "            'place',\n",
      "            'pet',\n",
      "            'friendly',\n",
      "            'really',\n",
      "            'amazing',\n",
      "            'view',\n",
      "            'wonderful',\n",
      "            'time',\n",
      "            'coffee',\n",
      "            'really',\n",
      "            'good',\n",
      "            'lot',\n",
      "            'option',\n",
      "            'breakfast']}\n"
     ]
    }
   ],
   "source": [
    "for rev in reviews_col.find({}):\n",
    "        pprint.pprint(rev)\n",
    "        break"
   ]
  },
  {
   "cell_type": "code",
   "execution_count": 6,
   "metadata": {},
   "outputs": [],
   "source": [
    "text_reviews = []\n",
    "\n",
    "for rev in reviews_col.find({}, {\"text_review\" : 1}):\n",
    "        text_reviews.append(rev['text_review'])\n"
   ]
  },
  {
   "cell_type": "code",
   "execution_count": 7,
   "metadata": {},
   "outputs": [],
   "source": [
    "sentiment = []\n",
    "\n",
    "for rev in text_reviews:\n",
    "        sentiment.append(TextBlob(rev).sentiment.polarity)"
   ]
  },
  {
   "cell_type": "code",
   "execution_count": 8,
   "metadata": {},
   "outputs": [
    {
     "data": {
      "text/plain": [
       "[0.6910000000000001,\n",
       " 0.39702380952380956,\n",
       " 0.28657407407407404,\n",
       " 0.3366666666666666,\n",
       " 0.28750000000000003,\n",
       " 0.25290476190476185,\n",
       " 0.47821428571428576,\n",
       " 0.8,\n",
       " 0.12,\n",
       " 0.13928571428571426,\n",
       " 0.33749999999999997,\n",
       " 0.725,\n",
       " 0.0,\n",
       " 0.33035714285714285,\n",
       " 0.25,\n",
       " 0.17142857142857143,\n",
       " 0.3333333333333333,\n",
       " 0.2402935606060606,\n",
       " -0.07142857142857144,\n",
       " 0.9533333333333333,\n",
       " 0.41666666666666663,\n",
       " 0.322,\n",
       " 0.4583333333333333,\n",
       " 0.6333333333333333,\n",
       " 0.5333333333333333,\n",
       " 0.5583333333333332,\n",
       " 0.7125,\n",
       " 1.0,\n",
       " 0.811111111111111,\n",
       " 0.15,\n",
       " 0.009999999999999986,\n",
       " 0.012499999999999983,\n",
       " 0.625,\n",
       " 0.024999999999999984,\n",
       " 0.5,\n",
       " 0.9,\n",
       " 0.8,\n",
       " 0.5333333333333333,\n",
       " 0.875,\n",
       " 0.65,\n",
       " 1.0,\n",
       " 0.36875,\n",
       " 0.7166666666666667,\n",
       " 0.6,\n",
       " 0.0,\n",
       " 0.0,\n",
       " 0.5875,\n",
       " 0.5,\n",
       " 1.0,\n",
       " 1.0,\n",
       " 0.0,\n",
       " 0.0,\n",
       " 0.0,\n",
       " 0.0,\n",
       " 0.0,\n",
       " 0.0,\n",
       " 0.0,\n",
       " 0.0,\n",
       " 0.0,\n",
       " 0.0,\n",
       " 0.0,\n",
       " 0.0,\n",
       " 0.0,\n",
       " 0.0,\n",
       " 0.0,\n",
       " 0.0,\n",
       " 0.0,\n",
       " 0.0,\n",
       " 0.0,\n",
       " 0.0,\n",
       " 0.0,\n",
       " 0.0]"
      ]
     },
     "execution_count": 8,
     "metadata": {},
     "output_type": "execute_result"
    }
   ],
   "source": [
    "sentiment"
   ]
  },
  {
   "cell_type": "code",
   "execution_count": 11,
   "metadata": {},
   "outputs": [
    {
     "data": {
      "text/plain": [
       "72"
      ]
     },
     "execution_count": 11,
     "metadata": {},
     "output_type": "execute_result"
    }
   ],
   "source": [
    "len(sentiment)"
   ]
  },
  {
   "cell_type": "code",
   "execution_count": 9,
   "metadata": {},
   "outputs": [],
   "source": [
    "ids = []\n",
    "for id in reviews_col.find({}, {'_id':1}):\n",
    "        ids.append(id['_id'])"
   ]
  },
  {
   "cell_type": "code",
   "execution_count": 12,
   "metadata": {},
   "outputs": [],
   "source": [
    "for i in range(len(sentiment)):\n",
    "        reviews_col.update_one({'_id':ids[i]},\n",
    "                {'$set':{\n",
    "                        'textblob_score' : sentiment[i]\n",
    "                }\n",
    "                }\n",
    "        )"
   ]
  },
  {
   "cell_type": "code",
   "execution_count": 13,
   "metadata": {},
   "outputs": [
    {
     "data": {
      "text/plain": [
       "{'_id': ObjectId('64f60b6ddc414c05721ed08d'),\n",
       " 'author': 'Miruna Iancu',\n",
       " 'stars': 5,\n",
       " 'text_review': 'A very nice place, pet friendly and with a really amazing view. We had a wonderful time here. The coffee is really good and they have a lot of options for breakfast.',\n",
       " 'tokens': ['nice',\n",
       "  'place',\n",
       "  'pet',\n",
       "  'friendly',\n",
       "  'really',\n",
       "  'amazing',\n",
       "  'view',\n",
       "  'wonderful',\n",
       "  'time',\n",
       "  'coffee',\n",
       "  'really',\n",
       "  'good',\n",
       "  'lot',\n",
       "  'option',\n",
       "  'breakfast'],\n",
       " 'textblob_score': 0.6910000000000001}"
      ]
     },
     "execution_count": 13,
     "metadata": {},
     "output_type": "execute_result"
    }
   ],
   "source": [
    "next(reviews_col.find({}))"
   ]
  },
  {
   "cell_type": "code",
   "execution_count": null,
   "metadata": {},
   "outputs": [],
   "source": []
  }
 ],
 "metadata": {
  "kernelspec": {
   "display_name": "Python 3",
   "language": "python",
   "name": "python3"
  },
  "language_info": {
   "codemirror_mode": {
    "name": "ipython",
    "version": 3
   },
   "file_extension": ".py",
   "mimetype": "text/x-python",
   "name": "python",
   "nbconvert_exporter": "python",
   "pygments_lexer": "ipython3",
   "version": "3.9.0"
  },
  "orig_nbformat": 4
 },
 "nbformat": 4,
 "nbformat_minor": 2
}
