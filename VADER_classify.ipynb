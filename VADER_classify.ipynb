{
 "cells": [
  {
   "cell_type": "code",
   "execution_count": 14,
   "metadata": {},
   "outputs": [],
   "source": [
    "from vaderSentiment.vaderSentiment import SentimentIntensityAnalyzer\n",
    "import pymongo\n",
    "from pymongo import MongoClient\n",
    "from pprint import pprint"
   ]
  },
  {
   "cell_type": "code",
   "execution_count": 18,
   "metadata": {},
   "outputs": [],
   "source": [
    "barn_client = MongoClient()\n",
    "barn_db = barn_client['barn-database']\n",
    "reviews_col = barn_db['reviews']"
   ]
  },
  {
   "cell_type": "code",
   "execution_count": 19,
   "metadata": {},
   "outputs": [
    {
     "data": {
      "text/plain": [
       "{'_id': ObjectId('64f60b6ddc414c05721ed08d'),\n",
       " 'author': 'Miruna Iancu',\n",
       " 'stars': 5,\n",
       " 'text_review': 'A very nice place, pet friendly and with a really amazing view. We had a wonderful time here. The coffee is really good and they have a lot of options for breakfast.',\n",
       " 'tokens': ['nice',\n",
       "  'place',\n",
       "  'pet',\n",
       "  'friendly',\n",
       "  'really',\n",
       "  'amazing',\n",
       "  'view',\n",
       "  'wonderful',\n",
       "  'time',\n",
       "  'coffee',\n",
       "  'really',\n",
       "  'good',\n",
       "  'lot',\n",
       "  'option',\n",
       "  'breakfast'],\n",
       " 'textblob_score': 0.6910000000000001}"
      ]
     },
     "execution_count": 19,
     "metadata": {},
     "output_type": "execute_result"
    }
   ],
   "source": [
    "next(reviews_col.find({}))"
   ]
  },
  {
   "cell_type": "code",
   "execution_count": 21,
   "metadata": {},
   "outputs": [],
   "source": [
    "text_reviews = []\n",
    "\n",
    "for rev in reviews_col.find({}, {\"text_review\" : 1}):\n",
    "        text_reviews.append(rev['text_review'])"
   ]
  },
  {
   "cell_type": "code",
   "execution_count": 22,
   "metadata": {},
   "outputs": [],
   "source": [
    "sent_analyzer = SentimentIntensityAnalyzer()"
   ]
  },
  {
   "cell_type": "code",
   "execution_count": 23,
   "metadata": {},
   "outputs": [],
   "source": [
    "sentiment = []\n",
    "\n",
    "for rev in text_reviews:\n",
    "        sentiment.append(sent_analyzer.polarity_scores(rev))"
   ]
  },
  {
   "cell_type": "code",
   "execution_count": 24,
   "metadata": {},
   "outputs": [],
   "source": [
    "neg = []\n",
    "for senti in sentiment:\n",
    "        if senti['compound'] < 0:\n",
    "                neg.append(senti)"
   ]
  },
  {
   "cell_type": "code",
   "execution_count": 25,
   "metadata": {},
   "outputs": [
    {
     "data": {
      "text/plain": [
       "72"
      ]
     },
     "execution_count": 25,
     "metadata": {},
     "output_type": "execute_result"
    }
   ],
   "source": [
    "len(sentiment)"
   ]
  },
  {
   "cell_type": "code",
   "execution_count": 26,
   "metadata": {},
   "outputs": [
    {
     "data": {
      "text/plain": [
       "[{'neg': 0.103, 'neu': 0.897, 'pos': 0.0, 'compound': -0.1531},\n",
       " {'neg': 0.217, 'neu': 0.58, 'pos': 0.203, 'compound': -0.0516},\n",
       " {'neg': 0.091, 'neu': 0.869, 'pos': 0.04, 'compound': -0.3506}]"
      ]
     },
     "execution_count": 26,
     "metadata": {},
     "output_type": "execute_result"
    }
   ],
   "source": [
    "neg"
   ]
  },
  {
   "cell_type": "code",
   "execution_count": 27,
   "metadata": {},
   "outputs": [],
   "source": [
    "ids = []\n",
    "for id in reviews_col.find({}, {'_id':1}):\n",
    "        ids.append(id['_id'])"
   ]
  },
  {
   "cell_type": "code",
   "execution_count": 28,
   "metadata": {},
   "outputs": [
    {
     "data": {
      "text/plain": [
       "[ObjectId('64f60b6ddc414c05721ed08d'),\n",
       " ObjectId('64f60b6ddc414c05721ed08e'),\n",
       " ObjectId('64f60b6ddc414c05721ed08f'),\n",
       " ObjectId('64f60b6ddc414c05721ed090'),\n",
       " ObjectId('64f60b6ddc414c05721ed091'),\n",
       " ObjectId('64f60b6ddc414c05721ed092'),\n",
       " ObjectId('64f60b6ddc414c05721ed093'),\n",
       " ObjectId('64f60b6ddc414c05721ed094'),\n",
       " ObjectId('64f60b6ddc414c05721ed095'),\n",
       " ObjectId('64f60b6ddc414c05721ed096'),\n",
       " ObjectId('64f60b6ddc414c05721ed097'),\n",
       " ObjectId('64f60b6ddc414c05721ed098'),\n",
       " ObjectId('64f60b6ddc414c05721ed099'),\n",
       " ObjectId('64f60b6ddc414c05721ed09a'),\n",
       " ObjectId('64f60b6ddc414c05721ed09b'),\n",
       " ObjectId('64f60b6ddc414c05721ed09c'),\n",
       " ObjectId('64f60b6ddc414c05721ed09d'),\n",
       " ObjectId('64f60b6ddc414c05721ed09e'),\n",
       " ObjectId('64f60b6ddc414c05721ed09f'),\n",
       " ObjectId('64f60b6ddc414c05721ed0a0'),\n",
       " ObjectId('64f60b6ddc414c05721ed0a1'),\n",
       " ObjectId('64f60b6ddc414c05721ed0a2'),\n",
       " ObjectId('64f60b6ddc414c05721ed0a3'),\n",
       " ObjectId('64f60b6ddc414c05721ed0a4'),\n",
       " ObjectId('64f60b6ddc414c05721ed0a5'),\n",
       " ObjectId('64f60b6ddc414c05721ed0a6'),\n",
       " ObjectId('64f60b6ddc414c05721ed0a7'),\n",
       " ObjectId('64f60b6ddc414c05721ed0a8'),\n",
       " ObjectId('64f60b6ddc414c05721ed0a9'),\n",
       " ObjectId('64f60b6ddc414c05721ed0aa'),\n",
       " ObjectId('64f60b6ddc414c05721ed0ab'),\n",
       " ObjectId('64f60b6ddc414c05721ed0ac'),\n",
       " ObjectId('64f60b6ddc414c05721ed0ad'),\n",
       " ObjectId('64f60b6ddc414c05721ed0ae'),\n",
       " ObjectId('64f60b6ddc414c05721ed0af'),\n",
       " ObjectId('64f60b6ddc414c05721ed0b0'),\n",
       " ObjectId('64f60b6ddc414c05721ed0b1'),\n",
       " ObjectId('64f60b6ddc414c05721ed0b2'),\n",
       " ObjectId('64f60b6ddc414c05721ed0b3'),\n",
       " ObjectId('64f60b6ddc414c05721ed0b4'),\n",
       " ObjectId('64f60b6ddc414c05721ed0b5'),\n",
       " ObjectId('64f60b6ddc414c05721ed0b6'),\n",
       " ObjectId('64f60b6ddc414c05721ed0b7'),\n",
       " ObjectId('64f60b6ddc414c05721ed0b8'),\n",
       " ObjectId('64f60b6ddc414c05721ed0b9'),\n",
       " ObjectId('64f60b6ddc414c05721ed0ba'),\n",
       " ObjectId('64f60b6ddc414c05721ed0bb'),\n",
       " ObjectId('64f60b6ddc414c05721ed0bc'),\n",
       " ObjectId('64f60b6ddc414c05721ed0bd'),\n",
       " ObjectId('64f60b6ddc414c05721ed0be'),\n",
       " ObjectId('64f60b6ddc414c05721ed0bf'),\n",
       " ObjectId('64f60b6ddc414c05721ed0c0'),\n",
       " ObjectId('64f60b6ddc414c05721ed0c1'),\n",
       " ObjectId('64f60b6ddc414c05721ed0c2'),\n",
       " ObjectId('64f60b6ddc414c05721ed0c3'),\n",
       " ObjectId('64f60b6ddc414c05721ed0c4'),\n",
       " ObjectId('64f60b6ddc414c05721ed0c5'),\n",
       " ObjectId('64f60b6ddc414c05721ed0c6'),\n",
       " ObjectId('64f60b6ddc414c05721ed0c7'),\n",
       " ObjectId('64f60b6ddc414c05721ed0c8'),\n",
       " ObjectId('64f60b6ddc414c05721ed0c9'),\n",
       " ObjectId('64f60b6ddc414c05721ed0ca'),\n",
       " ObjectId('64f60b6ddc414c05721ed0cb'),\n",
       " ObjectId('64f60b6ddc414c05721ed0cc'),\n",
       " ObjectId('64f60b6ddc414c05721ed0cd'),\n",
       " ObjectId('64f60b6ddc414c05721ed0ce'),\n",
       " ObjectId('64f60b6ddc414c05721ed0cf'),\n",
       " ObjectId('64f60b6ddc414c05721ed0d0'),\n",
       " ObjectId('64f60b6ddc414c05721ed0d1'),\n",
       " ObjectId('64f60b6ddc414c05721ed0d2'),\n",
       " ObjectId('64f60b6ddc414c05721ed0d3'),\n",
       " ObjectId('64f60b6ddc414c05721ed0d4')]"
      ]
     },
     "execution_count": 28,
     "metadata": {},
     "output_type": "execute_result"
    }
   ],
   "source": [
    "ids"
   ]
  },
  {
   "cell_type": "code",
   "execution_count": 29,
   "metadata": {},
   "outputs": [],
   "source": [
    "for i in range(len(sentiment)):\n",
    "        reviews_col.update_one({'_id':ids[i]},\n",
    "                {'$set':{\n",
    "                        'vader_score' : sentiment[i]['compound']\n",
    "                }\n",
    "                }\n",
    "        )"
   ]
  },
  {
   "cell_type": "code",
   "execution_count": 30,
   "metadata": {},
   "outputs": [
    {
     "data": {
      "text/plain": [
       "{'_id': ObjectId('64f60b6ddc414c05721ed08d'),\n",
       " 'author': 'Miruna Iancu',\n",
       " 'stars': 5,\n",
       " 'text_review': 'A very nice place, pet friendly and with a really amazing view. We had a wonderful time here. The coffee is really good and they have a lot of options for breakfast.',\n",
       " 'tokens': ['nice',\n",
       "  'place',\n",
       "  'pet',\n",
       "  'friendly',\n",
       "  'really',\n",
       "  'amazing',\n",
       "  'view',\n",
       "  'wonderful',\n",
       "  'time',\n",
       "  'coffee',\n",
       "  'really',\n",
       "  'good',\n",
       "  'lot',\n",
       "  'option',\n",
       "  'breakfast'],\n",
       " 'textblob_score': 0.6910000000000001,\n",
       " 'vader_score': 0.9537}"
      ]
     },
     "execution_count": 30,
     "metadata": {},
     "output_type": "execute_result"
    }
   ],
   "source": [
    "next(reviews_col.find({}))"
   ]
  },
  {
   "cell_type": "code",
   "execution_count": null,
   "metadata": {},
   "outputs": [],
   "source": []
  }
 ],
 "metadata": {
  "kernelspec": {
   "display_name": "Python 3",
   "language": "python",
   "name": "python3"
  },
  "language_info": {
   "codemirror_mode": {
    "name": "ipython",
    "version": 3
   },
   "file_extension": ".py",
   "mimetype": "text/x-python",
   "name": "python",
   "nbconvert_exporter": "python",
   "pygments_lexer": "ipython3",
   "version": "3.9.0"
  },
  "orig_nbformat": 4
 },
 "nbformat": 4,
 "nbformat_minor": 2
}
